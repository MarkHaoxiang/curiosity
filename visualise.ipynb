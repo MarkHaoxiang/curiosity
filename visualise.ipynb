{
 "cells": [
  {
   "cell_type": "markdown",
   "metadata": {},
   "source": [
    "# Policy Visualiser\n",
    "This is an utility to load a checkpoint model and run an evaluation"
   ]
  },
  {
   "cell_type": "code",
   "execution_count": null,
   "metadata": {},
   "outputs": [],
   "source": [
    "import os\n",
    "import json\n",
    "import gymnasium as gym\n",
    "import torch\n",
    "import matplotlib.pyplot as plt\n",
    "from IPython.display import clear_output\n",
    "import curiosity\n",
    "\n",
    "%env LD_LIBRARY_PATH=:/usr/lib/nvidia:/home/markhaoxiang/.mujoco/mujoco210/bin"
   ]
  },
  {
   "cell_type": "markdown",
   "metadata": {},
   "source": [
    "## Actor Critic"
   ]
  },
  {
   "cell_type": "code",
   "execution_count": 3,
   "metadata": {},
   "outputs": [
    {
     "data": {
      "image/png": "[encoded data removed]",
      "text/plain": [
       "<Figure size 640x480 with 1 Axes>"
      ]
     },
     "metadata": {},
     "output_type": "display_data"
    }
   ],
   "source": [
    "path = \"/home/markhaoxiang/Projects/part-ii-project/curiosity/log/ddpg_Pendulum-v1_2023-12-09 07-07-55-649148\"\n",
    "frame = 40000\n",
    "\n",
    "with open(os.path.join(path, \"config.json\"),\"r\") as f:\n",
    "    config = json.load(f)\n",
    "actor: torch.nn.Module = torch.load(os.path.join(path, \"checkpoint\", \"actor.pt\"))\n",
    "if not frame is None:\n",
    "    actor.load_state_dict(torch.load(os.path.join(path, \"checkpoint\", str(frame), \"actor.pt\")))\n",
    "\n",
    "actor = actor.to(\"cpu\")\n",
    "env = gym.make(config[\"environment\"], render_mode=\"rgb_array\")\n",
    "obs, _ = env.reset()\n",
    "terminated = False\n",
    "truncated = False\n",
    "policy = lambda x: actor(torch.tensor(x, dtype=torch.float32)).cpu().numpy()\n",
    "\n",
    "with torch.no_grad():\n",
    "    while not terminated and not truncated:\n",
    "        action = policy(obs)\n",
    "        obs, reward, terminated, truncated, _ = env.step(action)\n",
    "        clear_output(wait=True)\n",
    "        plt.imshow(env.render())\n",
    "        plt.show()"
   ]
  }
 ],
 "metadata": {
  "kernelspec": {
   "display_name": "venv",
   "language": "python",
   "name": "python3"
  },
  "language_info": {
   "codemirror_mode": {
    "name": "ipython",
    "version": 3
   },
   "file_extension": ".py",
   "mimetype": "text/x-python",
   "name": "python",
   "nbconvert_exporter": "python",
   "pygments_lexer": "ipython3",
   "version": "3.9.18"
  }
 },
 "nbformat": 4,
 "nbformat_minor": 2
}
